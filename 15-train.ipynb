{
 "cells": [
  {
   "cell_type": "code",
   "id": "initial_id",
   "metadata": {
    "collapsed": true,
    "ExecuteTime": {
     "end_time": "2025-09-24T09:16:49.472059Z",
     "start_time": "2025-09-24T09:16:49.465732Z"
    }
   },
   "source": [
    "import torch\n",
    "import torchvision\n",
    "from torch.fx.experimental.partitioner_utils import Device\n",
    "from torch.utils.data import DataLoader\n",
    "from torch import nn\n",
    "from torch.nn import Conv2d,MaxPool2d, Flatten, Linear\n",
    "from torch.utils.tensorboard import SummaryWriter\n",
    "import time"
   ],
   "outputs": [],
   "execution_count": 42
  },
  {
   "metadata": {
    "ExecuteTime": {
     "end_time": "2025-09-24T08:21:51.841261Z",
     "start_time": "2025-09-24T08:21:50.552239Z"
    }
   },
   "cell_type": "code",
   "source": [
    "#准备数据集\n",
    "train_data=torchvision.datasets.CIFAR10(root=\"./dataset\",train=True,transform=torchvision.transforms.ToTensor(),download=True)\n",
    "test_data=torchvision.datasets.CIFAR10(root=\"./dataset\",train=False,transform=torchvision.transforms.ToTensor(),download=True)"
   ],
   "id": "de66ac0438fa2307",
   "outputs": [],
   "execution_count": 21
  },
  {
   "metadata": {
    "ExecuteTime": {
     "end_time": "2025-09-24T08:21:53.270336Z",
     "start_time": "2025-09-24T08:21:53.254341Z"
    }
   },
   "cell_type": "code",
   "source": [
    "#length长度\n",
    "print(\"训练集长度：{}\".format(len(train_data)))\n",
    "print(\"测试集长度：{}\".format(len(test_data)))"
   ],
   "id": "b5b7d1ac0d1819cb",
   "outputs": [
    {
     "name": "stdout",
     "output_type": "stream",
     "text": [
      "训练集长度：50000\n",
      "测试集长度：10000\n"
     ]
    }
   ],
   "execution_count": 22
  },
  {
   "metadata": {
    "ExecuteTime": {
     "end_time": "2025-09-24T08:21:55.518186Z",
     "start_time": "2025-09-24T08:21:55.487593Z"
    }
   },
   "cell_type": "code",
   "source": [
    "#利用Dataloader 来加载数据\n",
    "train_loader=DataLoader(dataset=train_data,batch_size=64,shuffle=True,num_workers=0,drop_last=False)\n",
    "test_loader=DataLoader(dataset=test_data,batch_size=64,shuffle=False,num_workers=0,drop_last=False)"
   ],
   "id": "48956fc2efb62f9a",
   "outputs": [],
   "execution_count": 23
  },
  {
   "metadata": {
    "ExecuteTime": {
     "end_time": "2025-09-24T09:02:40.572831Z",
     "start_time": "2025-09-24T09:02:40.561633Z"
    }
   },
   "cell_type": "code",
   "source": [
    "#创建模型\n",
    "class Model(nn.Module):\n",
    "    def __init__(self):\n",
    "        super().__init__()\n",
    "        self.model=nn.Sequential(\n",
    "            Conv2d(in_channels=3,out_channels=32,kernel_size=5,padding=2),\n",
    "            MaxPool2d(kernel_size=2),\n",
    "            Conv2d(in_channels=32,out_channels=32,kernel_size=5,padding=2),\n",
    "            MaxPool2d(kernel_size=2),\n",
    "            Conv2d(in_channels=32,out_channels=64,kernel_size=5,padding=2),\n",
    "            MaxPool2d(kernel_size=2),\n",
    "            Flatten(),\n",
    "            Linear(1024,64),\n",
    "            Linear(64,10)\n",
    "        )\n",
    "    def forward(self, x):\n",
    "        x=self.model(x)\n",
    "        return x\n"
   ],
   "id": "afd597f799768743",
   "outputs": [],
   "execution_count": 33
  },
  {
   "metadata": {},
   "cell_type": "markdown",
   "source": "# 使用GPU进行训练时，需要将模型，损失函数，优化器，数据加载器都移动到GPU上",
   "id": "5d95a07a8560c887"
  },
  {
   "metadata": {
    "ExecuteTime": {
     "end_time": "2025-09-24T09:46:53.468912Z",
     "start_time": "2025-09-24T09:43:07.590980Z"
    }
   },
   "cell_type": "code",
   "source": [
    "#创建模型并进行训练、测试和保存\n",
    "device=torch.device(\"cuda\" if torch.cuda.is_available() else \"cpu\")\n",
    "model=Model()\n",
    "model.to(device)\n",
    "loss_fn=nn.CrossEntropyLoss()\n",
    "loss_fn.to(device)\n",
    "optimizer=torch.optim.SGD(model.parameters(),lr=0.01)\n",
    "\n",
    "writer=SummaryWriter(\"./tensorboard/CIFAR10_train\")\n",
    "for epoch in range(20):\n",
    "    train_loss=0.0\n",
    "    start_time=time.time()\n",
    "    print(\"Epoch:{}\".format(epoch+1))\n",
    "    for data in train_loader:\n",
    "        inputs,targets=data\n",
    "        inputs=inputs.to(device)\n",
    "        targets=targets.to(device)\n",
    "\n",
    "        outputs=model(inputs)\n",
    "        loss=loss_fn(outputs,targets)\n",
    "        optimizer.zero_grad()\n",
    "        loss.backward()\n",
    "        optimizer.step()\n",
    "        train_loss+=loss.item()\n",
    "    end_time=time.time()\n",
    "    writer.add_scalar(\"train_loss\",train_loss,epoch+1)\n",
    "    print(\"Epoch:{},Train Loss:{},Time:{}\".format(epoch+1,train_loss,end_time-start_time))\n",
    "\n",
    "    #对模型进行测试\n",
    "    model.eval()\n",
    "    test_loss=0.0\n",
    "    test_accuracy=0.0\n",
    "    with torch.no_grad():\n",
    "        for data in test_loader:\n",
    "            inputs,targets=data\n",
    "            inputs=inputs.to(device)\n",
    "            targets=targets.to(device)\n",
    "            outputs=model(inputs)\n",
    "            loss=loss_fn(outputs,targets)\n",
    "            test_loss+=loss.item()\n",
    "            accuracy=(outputs.argmax(1)==targets).sum()\n",
    "            test_accuracy+=accuracy\n",
    "    writer.add_scalar(\"test_loss\",test_loss,epoch+1)\n",
    "    print(\"Epoch:{},Test Loss:{},Test Accuracy:{}\".format(epoch+1,test_loss,test_accuracy))\n",
    "\n",
    "    #模型保存\n",
    "    torch.save(model,\"./model/cifar/cifar10_model_{}.pth\".format(epoch+1))\n",
    "\n",
    "writer.close()"
   ],
   "id": "9af3c9ebb610cace",
   "outputs": [
    {
     "name": "stdout",
     "output_type": "stream",
     "text": [
      "Epoch:1\n",
      "Epoch:1,Train Loss:1698.6954525709152,Time:10.128042936325073\n",
      "Epoch:1,Test Loss:305.4164527654648,Test Accuracy:3064.0\n",
      "Epoch:2\n",
      "Epoch:2,Train Loss:1443.4094796180725,Time:9.8090181350708\n",
      "Epoch:2,Test Loss:273.7366615533829,Test Accuracy:3802.0\n",
      "Epoch:3\n",
      "Epoch:3,Train Loss:1302.0689737796783,Time:10.120954751968384\n",
      "Epoch:3,Test Loss:255.21330332756042,Test Accuracy:4133.0\n",
      "Epoch:4\n",
      "Epoch:4,Train Loss:1213.2358391284943,Time:10.157371044158936\n",
      "Epoch:4,Test Loss:255.04289388656616,Test Accuracy:4390.0\n",
      "Epoch:5\n",
      "Epoch:5,Train Loss:1150.2297013998032,Time:9.996843099594116\n",
      "Epoch:5,Test Loss:258.3719642162323,Test Accuracy:4284.0\n",
      "Epoch:6\n",
      "Epoch:6,Train Loss:1096.354645729065,Time:9.85084843635559\n",
      "Epoch:6,Test Loss:223.201984167099,Test Accuracy:4886.0\n",
      "Epoch:7\n",
      "Epoch:7,Train Loss:1044.6497728824615,Time:9.843160152435303\n",
      "Epoch:7,Test Loss:216.08834838867188,Test Accuracy:5150.0\n",
      "Epoch:8\n",
      "Epoch:8,Train Loss:997.1058881282806,Time:9.842959880828857\n",
      "Epoch:8,Test Loss:202.46305298805237,Test Accuracy:5298.0\n",
      "Epoch:9\n",
      "Epoch:9,Train Loss:951.5819391012192,Time:9.979599475860596\n",
      "Epoch:9,Test Loss:217.10570061206818,Test Accuracy:5110.0\n",
      "Epoch:10\n",
      "Epoch:10,Train Loss:909.9816864728928,Time:10.014635801315308\n",
      "Epoch:10,Test Loss:235.49452602863312,Test Accuracy:4964.0\n",
      "Epoch:11\n",
      "Epoch:11,Train Loss:872.7189117074013,Time:9.788822889328003\n",
      "Epoch:11,Test Loss:207.83774840831757,Test Accuracy:5363.0\n",
      "Epoch:12\n",
      "Epoch:12,Train Loss:838.4843553900719,Time:9.77958607673645\n",
      "Epoch:12,Test Loss:186.5314427614212,Test Accuracy:5822.0\n",
      "Epoch:13\n",
      "Epoch:13,Train Loss:807.0770048499107,Time:9.828258991241455\n",
      "Epoch:13,Test Loss:177.67364192008972,Test Accuracy:6095.0\n",
      "Epoch:14\n",
      "Epoch:14,Train Loss:780.512457370758,Time:9.76365065574646\n",
      "Epoch:14,Test Loss:167.41684305667877,Test Accuracy:6372.0\n",
      "Epoch:15\n",
      "Epoch:15,Train Loss:754.5988266468048,Time:9.749929666519165\n",
      "Epoch:15,Test Loss:161.38199943304062,Test Accuracy:6486.0\n",
      "Epoch:16\n",
      "Epoch:16,Train Loss:731.0664165616035,Time:9.687509775161743\n",
      "Epoch:16,Test Loss:173.19376254081726,Test Accuracy:6258.0\n",
      "Epoch:17\n",
      "Epoch:17,Train Loss:710.0309321284294,Time:9.702436685562134\n",
      "Epoch:17,Test Loss:175.13513100147247,Test Accuracy:6225.0\n",
      "Epoch:18\n",
      "Epoch:18,Train Loss:689.9449220895767,Time:9.738596439361572\n",
      "Epoch:18,Test Loss:187.64342617988586,Test Accuracy:6029.0\n",
      "Epoch:19\n",
      "Epoch:19,Train Loss:670.9043599367142,Time:9.771791934967041\n",
      "Epoch:19,Test Loss:205.4281724691391,Test Accuracy:5681.0\n",
      "Epoch:20\n",
      "Epoch:20,Train Loss:650.5814285874367,Time:9.793525457382202\n",
      "Epoch:20,Test Loss:165.4854451417923,Test Accuracy:6399.0\n"
     ]
    }
   ],
   "execution_count": 45
  },
  {
   "metadata": {},
   "cell_type": "code",
   "outputs": [],
   "execution_count": null,
   "source": "",
   "id": "b322740adb1cd095"
  }
 ],
 "metadata": {
  "kernelspec": {
   "display_name": "Python 3",
   "language": "python",
   "name": "python3"
  },
  "language_info": {
   "codemirror_mode": {
    "name": "ipython",
    "version": 2
   },
   "file_extension": ".py",
   "mimetype": "text/x-python",
   "name": "python",
   "nbconvert_exporter": "python",
   "pygments_lexer": "ipython2",
   "version": "2.7.6"
  }
 },
 "nbformat": 4,
 "nbformat_minor": 5
}
