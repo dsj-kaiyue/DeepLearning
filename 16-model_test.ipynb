{
 "cells": [
  {
   "cell_type": "code",
   "id": "initial_id",
   "metadata": {
    "collapsed": true,
    "ExecuteTime": {
     "end_time": "2025-09-24T10:51:43.045611Z",
     "start_time": "2025-09-24T10:51:36.208665Z"
    }
   },
   "source": [
    "import torch\n",
    "from PIL import Image\n",
    "import torchvision\n",
    "from torch.fx.experimental.partitioner_utils import Device\n",
    "from torch.utils.data import DataLoader\n",
    "from torch import nn\n",
    "from torch.nn import Conv2d,MaxPool2d, Flatten, Linear\n",
    "from torch.utils.tensorboard import SummaryWriter\n",
    "import time"
   ],
   "outputs": [],
   "execution_count": 1
  },
  {
   "metadata": {
    "ExecuteTime": {
     "end_time": "2025-09-24T10:51:43.077704Z",
     "start_time": "2025-09-24T10:51:43.058468Z"
    }
   },
   "cell_type": "code",
   "source": [
    "class Model(nn.Module):\n",
    "    def __init__(self):\n",
    "        super().__init__()\n",
    "        self.model=nn.Sequential(\n",
    "            Conv2d(in_channels=3,out_channels=32,kernel_size=5,padding=2),\n",
    "            MaxPool2d(kernel_size=2),\n",
    "            Conv2d(in_channels=32,out_channels=32,kernel_size=5,padding=2),\n",
    "            MaxPool2d(kernel_size=2),\n",
    "            Conv2d(in_channels=32,out_channels=64,kernel_size=5,padding=2),\n",
    "            MaxPool2d(kernel_size=2),\n",
    "            Flatten(),\n",
    "            Linear(1024,64),\n",
    "            Linear(64,10)\n",
    "        )\n",
    "    def forward(self, x):\n",
    "        x=self.model(x)\n",
    "        return x"
   ],
   "id": "37ab298cbd541c59",
   "outputs": [],
   "execution_count": 2
  },
  {
   "metadata": {
    "ExecuteTime": {
     "end_time": "2025-09-24T10:53:55.575731Z",
     "start_time": "2025-09-24T10:53:55.549727Z"
    }
   },
   "cell_type": "code",
   "source": [
    "# 加载并处理图片\n",
    "image_pth=\"dataset/dog.png\"\n",
    "img=Image.open(image_pth)\n",
    "print(img.size)\n",
    "transform_compose=torchvision.transforms.Compose([\n",
    "    torchvision.transforms.Resize(size=(32,32)),\n",
    "    torchvision.transforms.ToTensor()\n",
    "])\n",
    "img=transform_compose(img)\n",
    "img=img.unsqueeze(0)\n",
    "print(img.shape)\n"
   ],
   "id": "583f7eff7f2fa6c0",
   "outputs": [
    {
     "name": "stdout",
     "output_type": "stream",
     "text": [
      "(742, 1024)\n",
      "torch.Size([1, 3, 32, 32])\n"
     ]
    }
   ],
   "execution_count": 7
  },
  {
   "metadata": {
    "ExecuteTime": {
     "end_time": "2025-09-24T10:53:59.863098Z",
     "start_time": "2025-09-24T10:53:59.805462Z"
    }
   },
   "cell_type": "code",
   "source": [
    "#加载模型\n",
    "device=torch.device(\"cuda\" if torch.cuda.is_available() else \"cpu\")\n",
    "model=torch.load(\"./model/cifar/cifar10_model_20.pth\",weights_only= False)\n",
    "model.eval()\n",
    "model.to(device)\n",
    "img=img.to(device)\n",
    "with torch.no_grad():\n",
    "    output=model(img)\n",
    "    print(output.argmax(1))"
   ],
   "id": "8bd729beb59d5df5",
   "outputs": [
    {
     "name": "stdout",
     "output_type": "stream",
     "text": [
      "tensor([3], device='cuda:0')\n"
     ]
    }
   ],
   "execution_count": 8
  },
  {
   "metadata": {
    "ExecuteTime": {
     "end_time": "2025-09-24T10:58:25.450680Z",
     "start_time": "2025-09-24T10:58:25.397146Z"
    }
   },
   "cell_type": "code",
   "source": [
    "#加载模型\n",
    "model=torch.load(\"./model/cifar/cifar10_model_20.pth\",weights_only= False,map_location=torch.device(\"cpu\"))\n",
    "model.eval()\n",
    "img=img.to(torch.device(\"cpu\"))\n",
    "with torch.no_grad():\n",
    "    output=model(img)\n",
    "    print(output.argmax(1))"
   ],
   "id": "9768672dd29129af",
   "outputs": [
    {
     "name": "stdout",
     "output_type": "stream",
     "text": [
      "tensor([3])\n"
     ]
    }
   ],
   "execution_count": 11
  }
 ],
 "metadata": {
  "kernelspec": {
   "display_name": "Python 3",
   "language": "python",
   "name": "python3"
  },
  "language_info": {
   "codemirror_mode": {
    "name": "ipython",
    "version": 2
   },
   "file_extension": ".py",
   "mimetype": "text/x-python",
   "name": "python",
   "nbconvert_exporter": "python",
   "pygments_lexer": "ipython2",
   "version": "2.7.6"
  }
 },
 "nbformat": 4,
 "nbformat_minor": 5
}
