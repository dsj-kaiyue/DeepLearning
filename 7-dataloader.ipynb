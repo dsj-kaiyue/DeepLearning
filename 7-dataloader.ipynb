{
 "cells": [
  {
   "cell_type": "code",
   "id": "initial_id",
   "metadata": {
    "collapsed": true,
    "ExecuteTime": {
     "end_time": "2025-09-22T07:33:48.259355Z",
     "start_time": "2025-09-22T07:33:42.627811Z"
    }
   },
   "source": [
    "import torchvision\n",
    "from torch.utils.data import DataLoader\n",
    "from torch.utils.tensorboard import SummaryWriter"
   ],
   "outputs": [],
   "execution_count": 2
  },
  {
   "metadata": {
    "ExecuteTime": {
     "end_time": "2025-09-22T07:34:58.688105Z",
     "start_time": "2025-09-22T07:34:44.334559Z"
    }
   },
   "cell_type": "code",
   "source": [
    "test_set=torchvision.datasets.CIFAR10(root=\"./dataset\",train=False,download=True,transform=torchvision.transforms.ToTensor())\n",
    "test_loader=DataLoader(test_set,batch_size=64,shuffle=True,num_workers=0,drop_last=False)\n",
    "\n",
    "writer=SummaryWriter(\"tensorboard/激活函数/dataloader\")\n",
    "for epoch in range(2):\n",
    "    step=0\n",
    "    for data in test_loader:\n",
    "        imgs,targets=data\n",
    "        writer.add_images(\"Epoch:{}\".format(epoch),imgs,step)\n",
    "        step=step+1\n",
    "\n",
    "writer.close()"
   ],
   "id": "fd4f8840087040f",
   "outputs": [],
   "execution_count": 4
  }
 ],
 "metadata": {
  "kernelspec": {
   "display_name": "Python 3",
   "language": "python",
   "name": "python3"
  },
  "language_info": {
   "codemirror_mode": {
    "name": "ipython",
    "version": 2
   },
   "file_extension": ".py",
   "mimetype": "text/x-python",
   "name": "python",
   "nbconvert_exporter": "python",
   "pygments_lexer": "ipython2",
   "version": "2.7.6"
  }
 },
 "nbformat": 4,
 "nbformat_minor": 5
}
