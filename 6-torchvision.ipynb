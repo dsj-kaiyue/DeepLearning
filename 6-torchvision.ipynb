{
 "cells": [
  {
   "cell_type": "code",
   "id": "initial_id",
   "metadata": {
    "collapsed": true,
    "ExecuteTime": {
     "end_time": "2025-09-22T07:00:45.844152Z",
     "start_time": "2025-09-22T07:00:45.495632Z"
    }
   },
   "source": [
    "import torchvision\n",
    "from torch.utils.tensorboard import SummaryWriter\n"
   ],
   "outputs": [],
   "execution_count": 15
  },
  {
   "metadata": {
    "ExecuteTime": {
     "end_time": "2025-09-22T07:04:12.008427Z",
     "start_time": "2025-09-22T07:04:10.712683Z"
    }
   },
   "cell_type": "code",
   "source": [
    "dataset_transform=torchvision.transforms.Compose([torchvision.transforms.ToTensor(),torchvision.transforms.Normalize((0.5,0.5,0.5),(0.5,0.5,0.5))])\n",
    "\n",
    "train_set=torchvision.datasets.CIFAR10(root=\"./dataset\",train=True,download=True,transform=dataset_transform)\n",
    "test_set=torchvision.datasets.CIFAR10(root=\"./dataset\",train=False,download=True,transform=dataset_transform)"
   ],
   "id": "f08286800b10b13d",
   "outputs": [],
   "execution_count": 17
  },
  {
   "metadata": {
    "ExecuteTime": {
     "end_time": "2025-09-22T07:04:14.570951Z",
     "start_time": "2025-09-22T07:04:14.533717Z"
    }
   },
   "cell_type": "code",
   "source": [
    "writer=SummaryWriter(\"tensorboard/CIFAR10\")\n",
    "for i in range(10):\n",
    "    img,target=train_set[i]\n",
    "    writer.add_image(\"train_set\",img,i)\n",
    "writer.close()"
   ],
   "id": "74b61dcf31b845f9",
   "outputs": [],
   "execution_count": 18
  },
  {
   "metadata": {
    "ExecuteTime": {
     "end_time": "2025-09-22T06:55:55.096599Z",
     "start_time": "2025-09-22T06:55:55.076594Z"
    }
   },
   "cell_type": "code",
   "source": [
    "img,target=train_set[0]\n",
    "print(img,target,test_set.classes[target] )\n",
    "img.show()"
   ],
   "id": "22d5c691ac6d80c7",
   "outputs": [
    {
     "name": "stdout",
     "output_type": "stream",
     "text": [
      "<PIL.Image.Image image mode=RGB size=32x32 at 0x1F8498CBAC0> 6 frog\n"
     ]
    }
   ],
   "execution_count": 13
  }
 ],
 "metadata": {
  "kernelspec": {
   "display_name": "Python 3",
   "language": "python",
   "name": "python3"
  },
  "language_info": {
   "codemirror_mode": {
    "name": "ipython",
    "version": 2
   },
   "file_extension": ".py",
   "mimetype": "text/x-python",
   "name": "python",
   "nbconvert_exporter": "python",
   "pygments_lexer": "ipython2",
   "version": "2.7.6"
  }
 },
 "nbformat": 4,
 "nbformat_minor": 5
}
