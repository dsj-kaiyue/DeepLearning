{
 "cells": [
  {
   "cell_type": "code",
   "execution_count": 6,
   "id": "959a291b",
   "metadata": {},
   "outputs": [],
   "source": [
    "from torch.utils.data import Dataset\n",
    "from PIL import Image\n",
    "import os\n"
   ]
  },
  {
   "cell_type": "code",
   "execution_count": null,
   "id": "b47cb4ba",
   "metadata": {},
   "outputs": [],
   "source": [
    "#构建自己的Dataset类\n",
    "class Mydata(Dataset):\n",
    "    def __init__(self,root_dir,label_dir):\n",
    "        self.root_dir=root_dir\n",
    "        self.label_dir=label_dir\n",
    "        self.path=os.path.join(self.root_dir,self.label_dir)\n",
    "        self.img_path=os.listdir(self.path)\n",
    "\n",
    "    def __getitem__(self, index):\n",
    "        img_name=self.img_path[index]\n",
    "        img_item_path=os.path.join(self.root_dir,self.label_dir,img_name)\n",
    "        img=Image.open(img_item_path)\n",
    "        label=self.label_dir\n",
    "        return img,label\n",
    "    \n",
    "\n",
    "    def __len__(self):\n",
    "        return len(self.img_path)\n",
    "      "
   ]
  },
  {
   "cell_type": "code",
   "execution_count": null,
   "id": "84225478",
   "metadata": {},
   "outputs": [],
   "source": [
    "#构建训练集\n",
    "root_dir= r\"dataset/hymenoptera_data\\train\"\n",
    "ants_label_dir=\"ants\"\n",
    "bees_label_dir=\"bees\"\n",
    "ants_dataset=Mydata(root_dir,ants_label_dir)\n",
    "bees_dataset=Mydata(root_dir,bees_label_dir)\n",
    "train_dataset=ants_dataset+bees_dataset"
   ]
  },
  {
   "cell_type": "code",
   "execution_count": null,
   "id": "8b32d6cc",
   "metadata": {},
   "outputs": [
    {
     "data": {
      "text/plain": [
       "tuple"
      ]
     },
     "execution_count": 14,
     "metadata": {},
     "output_type": "execute_result"
    }
   ],
   "source": [
    "\n",
    "\n"
   ]
  }
 ],
 "metadata": {
  "kernelspec": {
   "display_name": "pytorch",
   "language": "python",
   "name": "python3"
  },
  "language_info": {
   "codemirror_mode": {
    "name": "ipython",
    "version": 3
   },
   "file_extension": ".py",
   "mimetype": "text/x-python",
   "name": "python",
   "nbconvert_exporter": "python",
   "pygments_lexer": "ipython3",
   "version": "3.9.23"
  }
 },
 "nbformat": 4,
 "nbformat_minor": 5
}
