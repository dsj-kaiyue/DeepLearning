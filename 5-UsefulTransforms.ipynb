{
 "cells": [
  {
   "cell_type": "code",
   "id": "initial_id",
   "metadata": {
    "collapsed": true,
    "ExecuteTime": {
     "end_time": "2025-09-21T14:00:58.786973Z",
     "start_time": "2025-09-21T14:00:47.740592Z"
    }
   },
   "source": [
    "from PIL import Image\n",
    "from torch.utils.tensorboard import SummaryWriter\n",
    "from torchvision import transforms\n"
   ],
   "outputs": [],
   "execution_count": 1
  },
  {
   "metadata": {
    "ExecuteTime": {
     "end_time": "2025-09-21T14:00:58.863863Z",
     "start_time": "2025-09-21T14:00:58.800633Z"
    }
   },
   "cell_type": "code",
   "source": [
    "writer=SummaryWriter(\"logs\")\n",
    "img_path=r\"hymenoptera_data\\train\\ants\\5650366_e22b7e1065.jpg\"\n",
    "img=Image.open(img_path)\n",
    "print(img)"
   ],
   "id": "82968c988df7e128",
   "outputs": [
    {
     "name": "stdout",
     "output_type": "stream",
     "text": [
      "<PIL.JpegImagePlugin.JpegImageFile image mode=RGB size=500x375 at 0x227782C1640>\n"
     ]
    }
   ],
   "execution_count": 2
  },
  {
   "metadata": {
    "ExecuteTime": {
     "end_time": "2025-09-21T14:05:04.637638Z",
     "start_time": "2025-09-21T14:05:04.513718Z"
    }
   },
   "cell_type": "code",
   "source": [
    "#torchvision.transforms.ToTensor\n",
    "trans_totensor=transforms.ToTensor()\n",
    "tensor_img=trans_totensor(img)\n",
    "writer.add_image(\"totensor\",tensor_img)"
   ],
   "id": "a981c34cc6fbc1d9",
   "outputs": [],
   "execution_count": 3
  },
  {
   "metadata": {
    "ExecuteTime": {
     "end_time": "2025-09-21T14:06:27.255413Z",
     "start_time": "2025-09-21T14:06:27.186570Z"
    }
   },
   "cell_type": "code",
   "source": [
    "#torchvision.transforms.Normalize\n",
    "print(tensor_img[0][0][0])\n",
    "trans_norm=transforms.Normalize([0.5,0.5,0.5],[0.5,0.5,0.5])\n",
    "norm_img=trans_norm(tensor_img)\n",
    "print(norm_img[0][0][0])\n",
    "writer.add_image(\"normalize\",norm_img)"
   ],
   "id": "e221255ecfa07992",
   "outputs": [
    {
     "name": "stdout",
     "output_type": "stream",
     "text": [
      "tensor(0.3804)\n",
      "tensor(-0.2392)\n"
     ]
    }
   ],
   "execution_count": 4
  },
  {
   "metadata": {
    "ExecuteTime": {
     "end_time": "2025-09-21T14:06:30.347985Z",
     "start_time": "2025-09-21T14:06:30.336897Z"
    }
   },
   "cell_type": "code",
   "source": "writer.close()",
   "id": "ba3da30cfb997672",
   "outputs": [],
   "execution_count": 5
  }
 ],
 "metadata": {
  "kernelspec": {
   "display_name": "Python 3",
   "language": "python",
   "name": "python3"
  },
  "language_info": {
   "codemirror_mode": {
    "name": "ipython",
    "version": 2
   },
   "file_extension": ".py",
   "mimetype": "text/x-python",
   "name": "python",
   "nbconvert_exporter": "python",
   "pygments_lexer": "ipython2",
   "version": "2.7.6"
  }
 },
 "nbformat": 4,
 "nbformat_minor": 5
}
