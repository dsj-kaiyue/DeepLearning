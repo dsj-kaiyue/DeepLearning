{
 "cells": [
  {
   "cell_type": "code",
   "id": "initial_id",
   "metadata": {
    "collapsed": true,
    "ExecuteTime": {
     "end_time": "2025-09-22T06:26:04.591477Z",
     "start_time": "2025-09-22T06:25:52.285674Z"
    }
   },
   "source": [
    "from PIL import Image\n",
    "from torch.utils.tensorboard import SummaryWriter\n",
    "from torchvision import transforms\n"
   ],
   "outputs": [],
   "execution_count": 1
  },
  {
   "metadata": {
    "ExecuteTime": {
     "end_time": "2025-09-22T06:36:30.149238Z",
     "start_time": "2025-09-22T06:36:30.137230Z"
    }
   },
   "cell_type": "code",
   "source": [
    "writer=SummaryWriter(\"tensorboard/logs\")\n",
    "img_path= r\"dataset/hymenoptera_data\\train\\ants\\5650366_e22b7e1065.jpg\"\n",
    "img=Image.open(img_path)\n",
    "print(img)"
   ],
   "id": "82968c988df7e128",
   "outputs": [
    {
     "name": "stdout",
     "output_type": "stream",
     "text": [
      "<PIL.JpegImagePlugin.JpegImageFile image mode=RGB size=500x375 at 0x1D614194100>\n"
     ]
    }
   ],
   "execution_count": 18
  },
  {
   "metadata": {
    "ExecuteTime": {
     "end_time": "2025-09-22T06:27:39.066987Z",
     "start_time": "2025-09-22T06:27:38.941111Z"
    }
   },
   "cell_type": "code",
   "source": [
    "#torchvision.transforms.ToTensor\n",
    "trans_totensor=transforms.ToTensor()\n",
    "tensor_img=trans_totensor(img)\n",
    "writer.add_image(\"totensor\",tensor_img)"
   ],
   "id": "a981c34cc6fbc1d9",
   "outputs": [],
   "execution_count": 5
  },
  {
   "metadata": {
    "ExecuteTime": {
     "end_time": "2025-09-21T14:06:27.255413Z",
     "start_time": "2025-09-21T14:06:27.186570Z"
    }
   },
   "cell_type": "code",
   "source": [
    "#torchvision.transforms.Normalize\n",
    "print(tensor_img[0][0][0])\n",
    "trans_norm=transforms.Normalize([0.5,0.5,0.5],[0.5,0.5,0.5])\n",
    "norm_img=trans_norm(tensor_img)\n",
    "print(norm_img[0][0][0])\n",
    "writer.add_image(\"normalize\",norm_img)"
   ],
   "id": "e221255ecfa07992",
   "outputs": [
    {
     "name": "stdout",
     "output_type": "stream",
     "text": [
      "tensor(0.3804)\n",
      "tensor(-0.2392)\n"
     ]
    }
   ],
   "execution_count": 4
  },
  {
   "metadata": {
    "ExecuteTime": {
     "end_time": "2025-09-22T06:27:47.187534Z",
     "start_time": "2025-09-22T06:27:47.017383Z"
    }
   },
   "cell_type": "code",
   "source": [
    "#torchvision.transforms.Resize\n",
    "trans_resize=transforms.Resize((512,512))\n",
    "resize_img=trans_resize(img)\n",
    "resize_img=trans_totensor(resize_img)\n",
    "writer.add_image(\"resize\",resize_img)"
   ],
   "id": "2cc323962f82469d",
   "outputs": [],
   "execution_count": 6
  },
  {
   "metadata": {
    "ExecuteTime": {
     "end_time": "2025-09-22T06:33:02.448948Z",
     "start_time": "2025-09-22T06:33:02.275106Z"
    }
   },
   "cell_type": "code",
   "source": [
    "#compose\n",
    "trans_resize_2=transforms.Resize(512)\n",
    "trans_resize_center=transforms.Compose([trans_resize_2,trans_totensor])\n",
    "resize_img=trans_resize_center(img)\n",
    "writer.add_image(\"resize\",resize_img,1)\n"
   ],
   "id": "a6ca275cb8f02e77",
   "outputs": [],
   "execution_count": 10
  },
  {
   "metadata": {
    "ExecuteTime": {
     "end_time": "2025-09-22T06:36:56.142642Z",
     "start_time": "2025-09-22T06:36:56.077416Z"
    }
   },
   "cell_type": "code",
   "source": [
    "#RandomCrop\n",
    "trans_random_crop=transforms.RandomCrop(100)\n",
    "trans_compose=transforms.Compose([trans_random_crop,trans_totensor])\n",
    "for i in range(10):\n",
    "    crop_img=trans_compose(img)\n",
    "    writer.add_image(\"random_crop\",crop_img,i)"
   ],
   "id": "bbee92d41d54fc4a",
   "outputs": [],
   "execution_count": 20
  },
  {
   "metadata": {
    "ExecuteTime": {
     "end_time": "2025-09-22T06:36:59.600370Z",
     "start_time": "2025-09-22T06:36:59.584735Z"
    }
   },
   "cell_type": "code",
   "source": "writer.close()",
   "id": "ba3da30cfb997672",
   "outputs": [],
   "execution_count": 21
  }
 ],
 "metadata": {
  "kernelspec": {
   "display_name": "Python 3",
   "language": "python",
   "name": "python3"
  },
  "language_info": {
   "codemirror_mode": {
    "name": "ipython",
    "version": 2
   },
   "file_extension": ".py",
   "mimetype": "text/x-python",
   "name": "python",
   "nbconvert_exporter": "python",
   "pygments_lexer": "ipython2",
   "version": "2.7.6"
  }
 },
 "nbformat": 4,
 "nbformat_minor": 5
}
