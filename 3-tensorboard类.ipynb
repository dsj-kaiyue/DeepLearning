{
 "cells": [
  {
   "cell_type": "code",
   "execution_count": 2,
   "id": "ae937d46",
   "metadata": {},
   "outputs": [],
   "source": [
    "from torch.utils.tensorboard import SummaryWriter\n",
    "from PIL import Image\n",
    "import numpy as np"
   ]
  },
  {
   "cell_type": "code",
   "execution_count": null,
   "id": "17bbf180",
   "metadata": {},
   "outputs": [],
   "source": [
    "writer=SummaryWriter(\"logs\")\n",
    "\n",
    "image_path=r\"hymenoptera_data\\train\\ants\\0013035.jpg\"\n",
    "image_PIL=Image.open(image_path)\n",
    "img_array=np.array(image_PIL)\n",
    "\n",
    "writer.add_image(\"test\",img_array,1,dataformats=\"HWC\")\n",
    "\n",
    "writer.close()"
   ]
  },
  {
   "cell_type": "code",
   "execution_count": null,
   "id": "0ccc5e1d",
   "metadata": {},
   "outputs": [],
   "source": [
    "\n"
   ]
  }
 ],
 "metadata": {
  "kernelspec": {
   "display_name": "pytorch",
   "language": "python",
   "name": "python3"
  },
  "language_info": {
   "codemirror_mode": {
    "name": "ipython",
    "version": 3
   },
   "file_extension": ".py",
   "mimetype": "text/x-python",
   "name": "python",
   "nbconvert_exporter": "python",
   "pygments_lexer": "ipython3",
   "version": "3.9.23"
  }
 },
 "nbformat": 4,
 "nbformat_minor": 5
}
