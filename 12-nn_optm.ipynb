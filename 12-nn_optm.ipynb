{
 "cells": [
  {
   "cell_type": "code",
   "id": "initial_id",
   "metadata": {
    "collapsed": true,
    "ExecuteTime": {
     "end_time": "2025-09-24T10:59:03.689Z",
     "start_time": "2025-09-24T10:58:57.125732Z"
    }
   },
   "source": [
    "import torch\n",
    "import torchvision\n",
    "from torch import nn\n",
    "from torch.nn import Conv2d\n",
    "from torch.utils.data import DataLoader\n",
    "from torch.utils.tensorboard import SummaryWriter"
   ],
   "outputs": [],
   "execution_count": 1
  },
  {
   "metadata": {
    "ExecuteTime": {
     "end_time": "2025-09-24T10:59:04.879433Z",
     "start_time": "2025-09-24T10:59:04.097694Z"
    }
   },
   "cell_type": "code",
   "source": [
    "dataset=torchvision.datasets.CIFAR10(\"./dataset\",train=False,transform=torchvision.transforms.ToTensor(),download=True)\n",
    "dataloader=DataLoader(dataset,batch_size=10)"
   ],
   "id": "a75207bad4e62e6f",
   "outputs": [],
   "execution_count": 2
  },
  {
   "metadata": {
    "ExecuteTime": {
     "end_time": "2025-09-24T04:43:50.787809Z",
     "start_time": "2025-09-24T04:43:50.771186Z"
    }
   },
   "cell_type": "code",
   "source": [
    "class Kaiyue(nn.Module):\n",
    "    def __init__(self):\n",
    "        super().__init__()\n",
    "        self.model=nn.Sequential(\n",
    "            Conv2d(in_channels=3,out_channels=32,kernel_size=5,padding=2),\n",
    "            nn.MaxPool2d(kernel_size=2),\n",
    "            Conv2d(in_channels=32,out_channels=32,kernel_size=5,padding=2),\n",
    "            nn.MaxPool2d(kernel_size=2),\n",
    "            Conv2d(in_channels=32,out_channels=64,kernel_size=5,padding=2),\n",
    "            nn.MaxPool2d(kernel_size=2),\n",
    "            nn.Flatten(),\n",
    "            nn.Linear(1024,64),\n",
    "            nn.Linear(64,10)\n",
    "        )\n",
    "\n",
    "    def forward(self, x):\n",
    "        x=self.model(x)\n",
    "        return x\n"
   ],
   "id": "a094a0b5183f4bcf",
   "outputs": [],
   "execution_count": 4
  },
  {
   "metadata": {
    "ExecuteTime": {
     "end_time": "2025-09-24T05:04:17.521284Z",
     "start_time": "2025-09-24T05:02:07.710303Z"
    }
   },
   "cell_type": "code",
   "source": [
    "kaiyue=Kaiyue()\n",
    "loss=nn.CrossEntropyLoss()\n",
    "optim=torch.optim.SGD(kaiyue.parameters(),lr=0.01)\n",
    "\n",
    "\n",
    "writer=SummaryWriter('./tensorboard/optim')\n",
    "for epoch in range(20):\n",
    "    running_loss=0.0\n",
    "    for step,data in enumerate(dataloader):\n",
    "        imgs,targets=data\n",
    "        outputs=kaiyue(imgs)\n",
    "        result_loss=loss(outputs,targets)\n",
    "        optim.zero_grad()\n",
    "        result_loss.backward()\n",
    "        optim.step()\n",
    "        running_loss +=result_loss\n",
    "\n",
    "\n",
    "        writer.add_scalar(\"batch_loss\",result_loss,epoch*len(dataloader)+step)\n",
    "    print(running_loss)\n",
    "    writer.add_scalar(\"epoch_loss\",running_loss,epoch)"
   ],
   "id": "970552f0f727f33f",
   "outputs": [
    {
     "name": "stdout",
     "output_type": "stream",
     "text": [
      "tensor(2131.6394, grad_fn=<AddBackward0>)\n",
      "tensor(1811.5311, grad_fn=<AddBackward0>)\n",
      "tensor(1658.9927, grad_fn=<AddBackward0>)\n",
      "tensor(1552.0137, grad_fn=<AddBackward0>)\n",
      "tensor(1461.2476, grad_fn=<AddBackward0>)\n",
      "tensor(1378.9064, grad_fn=<AddBackward0>)\n",
      "tensor(1297.4036, grad_fn=<AddBackward0>)\n",
      "tensor(1217.7747, grad_fn=<AddBackward0>)\n",
      "tensor(1139.6312, grad_fn=<AddBackward0>)\n",
      "tensor(1062.2568, grad_fn=<AddBackward0>)\n",
      "tensor(982.9320, grad_fn=<AddBackward0>)\n",
      "tensor(902.7702, grad_fn=<AddBackward0>)\n",
      "tensor(819.9506, grad_fn=<AddBackward0>)\n",
      "tensor(733.8828, grad_fn=<AddBackward0>)\n",
      "tensor(646.8238, grad_fn=<AddBackward0>)\n",
      "tensor(554.6084, grad_fn=<AddBackward0>)\n",
      "tensor(495.6187, grad_fn=<AddBackward0>)\n",
      "tensor(454.8063, grad_fn=<AddBackward0>)\n",
      "tensor(403.6408, grad_fn=<AddBackward0>)\n",
      "tensor(390.3580, grad_fn=<AddBackward0>)\n"
     ]
    }
   ],
   "execution_count": 8
  }
 ],
 "metadata": {
  "kernelspec": {
   "display_name": "Python 3",
   "language": "python",
   "name": "python3"
  },
  "language_info": {
   "codemirror_mode": {
    "name": "ipython",
    "version": 2
   },
   "file_extension": ".py",
   "mimetype": "text/x-python",
   "name": "python",
   "nbconvert_exporter": "python",
   "pygments_lexer": "ipython2",
   "version": "2.7.6"
  }
 },
 "nbformat": 4,
 "nbformat_minor": 5
}
