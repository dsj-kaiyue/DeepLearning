{
 "cells": [
  {
   "cell_type": "code",
   "id": "initial_id",
   "metadata": {
    "collapsed": true,
    "ExecuteTime": {
     "end_time": "2025-09-24T05:12:56.951855Z",
     "start_time": "2025-09-24T05:12:51.073132Z"
    }
   },
   "source": [
    "import torch\n",
    "import torchvision\n",
    "from torch import nn\n",
    "from torch.nn import Conv2d\n",
    "from torch.utils.data import DataLoader\n",
    "from torch.utils.tensorboard import SummaryWriter"
   ],
   "outputs": [],
   "execution_count": 1
  },
  {
   "metadata": {
    "ExecuteTime": {
     "end_time": "2025-09-24T05:27:53.008229Z",
     "start_time": "2025-09-24T05:27:52.376918Z"
    }
   },
   "cell_type": "code",
   "source": [
    "train_data=torchvision.datasets.CIFAR10(\"./dataset\",train=False,transform=torchvision.transforms.ToTensor(),download=True)\n",
    "dataloader=DataLoader(train_data,batch_size=10)"
   ],
   "id": "a75207bad4e62e6f",
   "outputs": [],
   "execution_count": 8
  },
  {
   "metadata": {
    "ExecuteTime": {
     "end_time": "2025-09-24T05:42:33.817428Z",
     "start_time": "2025-09-24T05:42:31.618013Z"
    }
   },
   "cell_type": "code",
   "source": [
    "# 设置设备\n",
    "device = torch.device(\"cuda\" if torch.cuda.is_available() else \"cpu\")\n",
    "print(device)\n",
    "# 设置PyTorch的缓存目录\n",
    "torch.hub.set_dir('./my_torch_hub')\n",
    "vgg16_false=torchvision.models.vgg16(pretrained=False)\n",
    "vgg16_true=torchvision.models.vgg16(pretrained=True)\n",
    "\n",
    "vgg16_true.classifier.add_module(\"add_linear\",nn.Linear(1000,10))\n",
    "vgg16_true.to(device)\n",
    "# vgg16_true.classifier[6]=nn.Linear(4096,10)\n",
    "\n",
    "loss=nn.CrossEntropyLoss()\n",
    "optim=torch.optim.SGD(vgg16_true.parameters(),lr=0.01)\n",
    "print(vgg16_true)"
   ],
   "id": "feb66dda5677707",
   "outputs": [
    {
     "name": "stdout",
     "output_type": "stream",
     "text": [
      "cuda\n"
     ]
    },
    {
     "name": "stderr",
     "output_type": "stream",
     "text": [
      "D:\\Anaconda\\envs\\pytorch\\lib\\site-packages\\torchvision\\models\\_utils.py:208: UserWarning: The parameter 'pretrained' is deprecated since 0.13 and may be removed in the future, please use 'weights' instead.\n",
      "  warnings.warn(\n",
      "D:\\Anaconda\\envs\\pytorch\\lib\\site-packages\\torchvision\\models\\_utils.py:223: UserWarning: Arguments other than a weight enum or `None` for 'weights' are deprecated since 0.13 and may be removed in the future. The current behavior is equivalent to passing `weights=None`.\n",
      "  warnings.warn(msg)\n",
      "D:\\Anaconda\\envs\\pytorch\\lib\\site-packages\\torchvision\\models\\_utils.py:223: UserWarning: Arguments other than a weight enum or `None` for 'weights' are deprecated since 0.13 and may be removed in the future. The current behavior is equivalent to passing `weights=VGG16_Weights.IMAGENET1K_V1`. You can also use `weights=VGG16_Weights.DEFAULT` to get the most up-to-date weights.\n",
      "  warnings.warn(msg)\n"
     ]
    },
    {
     "name": "stdout",
     "output_type": "stream",
     "text": [
      "VGG(\n",
      "  (features): Sequential(\n",
      "    (0): Conv2d(3, 64, kernel_size=(3, 3), stride=(1, 1), padding=(1, 1))\n",
      "    (1): ReLU(inplace=True)\n",
      "    (2): Conv2d(64, 64, kernel_size=(3, 3), stride=(1, 1), padding=(1, 1))\n",
      "    (3): ReLU(inplace=True)\n",
      "    (4): MaxPool2d(kernel_size=2, stride=2, padding=0, dilation=1, ceil_mode=False)\n",
      "    (5): Conv2d(64, 128, kernel_size=(3, 3), stride=(1, 1), padding=(1, 1))\n",
      "    (6): ReLU(inplace=True)\n",
      "    (7): Conv2d(128, 128, kernel_size=(3, 3), stride=(1, 1), padding=(1, 1))\n",
      "    (8): ReLU(inplace=True)\n",
      "    (9): MaxPool2d(kernel_size=2, stride=2, padding=0, dilation=1, ceil_mode=False)\n",
      "    (10): Conv2d(128, 256, kernel_size=(3, 3), stride=(1, 1), padding=(1, 1))\n",
      "    (11): ReLU(inplace=True)\n",
      "    (12): Conv2d(256, 256, kernel_size=(3, 3), stride=(1, 1), padding=(1, 1))\n",
      "    (13): ReLU(inplace=True)\n",
      "    (14): Conv2d(256, 256, kernel_size=(3, 3), stride=(1, 1), padding=(1, 1))\n",
      "    (15): ReLU(inplace=True)\n",
      "    (16): MaxPool2d(kernel_size=2, stride=2, padding=0, dilation=1, ceil_mode=False)\n",
      "    (17): Conv2d(256, 512, kernel_size=(3, 3), stride=(1, 1), padding=(1, 1))\n",
      "    (18): ReLU(inplace=True)\n",
      "    (19): Conv2d(512, 512, kernel_size=(3, 3), stride=(1, 1), padding=(1, 1))\n",
      "    (20): ReLU(inplace=True)\n",
      "    (21): Conv2d(512, 512, kernel_size=(3, 3), stride=(1, 1), padding=(1, 1))\n",
      "    (22): ReLU(inplace=True)\n",
      "    (23): MaxPool2d(kernel_size=2, stride=2, padding=0, dilation=1, ceil_mode=False)\n",
      "    (24): Conv2d(512, 512, kernel_size=(3, 3), stride=(1, 1), padding=(1, 1))\n",
      "    (25): ReLU(inplace=True)\n",
      "    (26): Conv2d(512, 512, kernel_size=(3, 3), stride=(1, 1), padding=(1, 1))\n",
      "    (27): ReLU(inplace=True)\n",
      "    (28): Conv2d(512, 512, kernel_size=(3, 3), stride=(1, 1), padding=(1, 1))\n",
      "    (29): ReLU(inplace=True)\n",
      "    (30): MaxPool2d(kernel_size=2, stride=2, padding=0, dilation=1, ceil_mode=False)\n",
      "  )\n",
      "  (avgpool): AdaptiveAvgPool2d(output_size=(7, 7))\n",
      "  (classifier): Sequential(\n",
      "    (0): Linear(in_features=25088, out_features=4096, bias=True)\n",
      "    (1): ReLU(inplace=True)\n",
      "    (2): Dropout(p=0.5, inplace=False)\n",
      "    (3): Linear(in_features=4096, out_features=4096, bias=True)\n",
      "    (4): ReLU(inplace=True)\n",
      "    (5): Dropout(p=0.5, inplace=False)\n",
      "    (6): Linear(in_features=4096, out_features=1000, bias=True)\n",
      "    (add_linear): Linear(in_features=1000, out_features=10, bias=True)\n",
      "  )\n",
      ")\n"
     ]
    }
   ],
   "execution_count": 16
  },
  {
   "metadata": {
    "ExecuteTime": {
     "end_time": "2025-09-24T06:00:36.271140Z",
     "start_time": "2025-09-24T05:43:45.142036Z"
    }
   },
   "cell_type": "code",
   "source": [
    "writer=SummaryWriter('./tensorboard/vgg16_1')\n",
    "for epoch in range(20):\n",
    "    running_loss=0.0\n",
    "    for step,(imgs,targets) in enumerate(dataloader):\n",
    "        # 将数据移动到GPU\n",
    "        imgs = imgs.to(device)\n",
    "        targets = targets.to(device)\n",
    "        # 前向传播\n",
    "        outputs=vgg16_true(imgs)\n",
    "        result_loss=loss(outputs,targets)\n",
    "        # 反向传播\n",
    "        optim.zero_grad()\n",
    "        result_loss.backward()\n",
    "        optim.step()\n",
    "        running_loss +=result_loss.item ()\n",
    "        # 绘图\n",
    "        writer.add_scalar(\"batch_loss\",result_loss,epoch*len(dataloader)+step)\n",
    "    print(f\"Epoch {epoch+1}, Loss: {running_loss}\")\n",
    "    writer.add_scalar(\"epoch_loss\",running_loss,epoch)"
   ],
   "id": "cc908cedd265d20b",
   "outputs": [
    {
     "name": "stdout",
     "output_type": "stream",
     "text": [
      "Epoch 1, Loss: 1257.50049290061\n",
      "Epoch 2, Loss: 733.3499463386834\n",
      "Epoch 3, Loss: 495.72008411679417\n",
      "Epoch 4, Loss: 352.92105236806674\n",
      "Epoch 5, Loss: 273.8949332521297\n",
      "Epoch 6, Loss: 219.85500666021835\n",
      "Epoch 7, Loss: 154.1089211247163\n",
      "Epoch 8, Loss: 135.54717327005346\n",
      "Epoch 9, Loss: 114.53239096338802\n",
      "Epoch 10, Loss: 92.2609398807108\n",
      "Epoch 11, Loss: 76.31961593659798\n",
      "Epoch 12, Loss: 61.932638952665\n",
      "Epoch 13, Loss: 37.83197305768226\n",
      "Epoch 14, Loss: 66.55455573986183\n",
      "Epoch 15, Loss: 37.356567116776205\n",
      "Epoch 16, Loss: 40.66699252403669\n",
      "Epoch 17, Loss: 57.78010527278093\n",
      "Epoch 18, Loss: 40.24862515065979\n",
      "Epoch 19, Loss: 25.89498287220431\n",
      "Epoch 20, Loss: 39.90672255793106\n"
     ]
    }
   ],
   "execution_count": 18
  },
  {
   "metadata": {},
   "cell_type": "code",
   "outputs": [],
   "execution_count": null,
   "source": "",
   "id": "fd096c93afc92bbd"
  }
 ],
 "metadata": {
  "kernelspec": {
   "display_name": "Python 3",
   "language": "python",
   "name": "python3"
  },
  "language_info": {
   "codemirror_mode": {
    "name": "ipython",
    "version": 2
   },
   "file_extension": ".py",
   "mimetype": "text/x-python",
   "name": "python",
   "nbconvert_exporter": "python",
   "pygments_lexer": "ipython2",
   "version": "2.7.6"
  }
 },
 "nbformat": 4,
 "nbformat_minor": 5
}
