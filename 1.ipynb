{
 "cells": [
  {
   "cell_type": "code",
   "execution_count": 1,
   "id": "959a291b",
   "metadata": {},
   "outputs": [
    {
     "name": "stdout",
     "output_type": "stream",
     "text": [
      "PyTorch 已安装，版本： 2.8.0+cu129\n"
     ]
    }
   ],
   "source": [
    "# 判断 PyTorch 是否安装成功\n",
    "try:\n",
    "    import torch\n",
    "    print('PyTorch 已安装，版本：', torch.__version__)\n",
    "except ImportError:\n",
    "    print('未检测到 PyTorch，请先安装。')"
   ]
  },
  {
   "cell_type": "code",
   "execution_count": null,
   "id": "b47cb4ba",
   "metadata": {},
   "outputs": [],
   "source": []
  }
 ],
 "metadata": {
  "kernelspec": {
   "display_name": "pytorch",
   "language": "python",
   "name": "python3"
  },
  "language_info": {
   "codemirror_mode": {
    "name": "ipython",
    "version": 3
   },
   "file_extension": ".py",
   "mimetype": "text/x-python",
   "name": "python",
   "nbconvert_exporter": "python",
   "pygments_lexer": "ipython3",
   "version": "3.9.23"
  }
 },
 "nbformat": 4,
 "nbformat_minor": 5
}
