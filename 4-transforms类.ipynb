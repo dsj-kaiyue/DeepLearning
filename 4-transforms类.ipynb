{
 "cells": [
  {
   "cell_type": "code",
   "execution_count": 8,
   "id": "b70febfa",
   "metadata": {},
   "outputs": [],
   "source": [
    "from torchvision import transforms\n",
    "from PIL import Image\n",
    "from torch.utils.tensorboard import SummaryWriter"
   ]
  },
  {
   "cell_type": "code",
   "execution_count": null,
   "id": "08237c8f",
   "metadata": {},
   "outputs": [
    {
     "name": "stdout",
     "output_type": "stream",
     "text": [
      "<PIL.JpegImagePlugin.JpegImageFile image mode=RGB size=500x375 at 0x1FAD47DE910>\n"
     ]
    }
   ],
   "source": [
    "img_path=r\"hymenoptera_data\\train\\ants\\5650366_e22b7e1065.jpg\"\n",
    "img=Image.open(img_path)\n",
    "print(img)\n",
    "\n"
   ]
  },
  {
   "cell_type": "code",
   "execution_count": 9,
   "id": "e8fd4667",
   "metadata": {},
   "outputs": [
    {
     "name": "stdout",
     "output_type": "stream",
     "text": [
      "tensor([[[0.3804, 0.3804, 0.3843,  ..., 0.3412, 0.3373, 0.3333],\n",
      "         [0.3765, 0.3804, 0.3843,  ..., 0.3529, 0.3490, 0.3451],\n",
      "         [0.3804, 0.3804, 0.3843,  ..., 0.3725, 0.3686, 0.3647],\n",
      "         ...,\n",
      "         [0.6078, 0.6078, 0.6118,  ..., 0.4627, 0.4627, 0.4627],\n",
      "         [0.5882, 0.5922, 0.5922,  ..., 0.4588, 0.4588, 0.4588],\n",
      "         [0.5804, 0.5804, 0.5843,  ..., 0.4549, 0.4549, 0.4549]],\n",
      "\n",
      "        [[0.4667, 0.4667, 0.4706,  ..., 0.4039, 0.4000, 0.3961],\n",
      "         [0.4706, 0.4667, 0.4706,  ..., 0.3922, 0.3882, 0.3843],\n",
      "         [0.4745, 0.4745, 0.4784,  ..., 0.3804, 0.3765, 0.3725],\n",
      "         ...,\n",
      "         [0.5961, 0.5961, 0.6000,  ..., 0.4588, 0.4588, 0.4588],\n",
      "         [0.5882, 0.5922, 0.5922,  ..., 0.4549, 0.4549, 0.4549],\n",
      "         [0.5804, 0.5804, 0.5804,  ..., 0.4510, 0.4510, 0.4510]],\n",
      "\n",
      "        [[0.4157, 0.4157, 0.4196,  ..., 0.3608, 0.3569, 0.3529],\n",
      "         [0.4196, 0.4157, 0.4196,  ..., 0.3569, 0.3529, 0.3490],\n",
      "         [0.4235, 0.4235, 0.4235,  ..., 0.3608, 0.3569, 0.3529],\n",
      "         ...,\n",
      "         [0.5608, 0.5608, 0.5647,  ..., 0.4392, 0.4392, 0.4392],\n",
      "         [0.5412, 0.5529, 0.5608,  ..., 0.4353, 0.4353, 0.4353],\n",
      "         [0.5333, 0.5412, 0.5608,  ..., 0.4314, 0.4314, 0.4314]]])\n"
     ]
    }
   ],
   "source": [
    "tensor_trans=transforms.ToTensor()\n",
    "tensor_img=tensor_trans(img)\n",
    "print(tensor_img)\n",
    "\n",
    "writer=SummaryWriter(\"logs\")\n",
    "writer.add_image(\"transforms.ToTensor\",tensor_img)\n",
    "writer.close()"
   ]
  }
 ],
 "metadata": {
  "kernelspec": {
   "display_name": "pytorch",
   "language": "python",
   "name": "python3"
  },
  "language_info": {
   "codemirror_mode": {
    "name": "ipython",
    "version": 3
   },
   "file_extension": ".py",
   "mimetype": "text/x-python",
   "name": "python",
   "nbconvert_exporter": "python",
   "pygments_lexer": "ipython3",
   "version": "3.9.23"
  }
 },
 "nbformat": 4,
 "nbformat_minor": 5
}
