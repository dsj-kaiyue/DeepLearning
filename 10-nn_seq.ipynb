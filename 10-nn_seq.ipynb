{
 "cells": [
  {
   "cell_type": "code",
   "id": "initial_id",
   "metadata": {
    "collapsed": true,
    "ExecuteTime": {
     "end_time": "2025-09-22T13:21:43.645875Z",
     "start_time": "2025-09-22T13:21:43.253350Z"
    }
   },
   "source": [
    "import torch\n",
    "from torch import nn\n",
    "from torch.nn import Conv2d\n",
    "from torch.utils.tensorboard import SummaryWriter"
   ],
   "outputs": [],
   "execution_count": 33
  },
  {
   "metadata": {
    "ExecuteTime": {
     "end_time": "2025-09-22T13:15:37.266139Z",
     "start_time": "2025-09-22T13:15:37.247804Z"
    }
   },
   "cell_type": "code",
   "source": [
    "class Kaiyue(nn.Module):\n",
    "    def __init__(self):\n",
    "        super().__init__()\n",
    "        self.conv1=Conv2d(in_channels=3,out_channels=32,kernel_size=5,padding=2)\n",
    "        self.maxpool=nn.MaxPool2d(kernel_size=2)\n",
    "        self.conv2=Conv2d(in_channels=32,out_channels=32,kernel_size=5,padding=2)\n",
    "        self.maxpool2=nn.MaxPool2d(kernel_size=2)\n",
    "        self.conv3=Conv2d(in_channels=32,out_channels=64,kernel_size=5,padding=2)\n",
    "        self.maxpool3=nn.MaxPool2d(kernel_size=2)\n",
    "        self.flatten=nn.Flatten()\n",
    "        self.linear1=nn.Linear(1024,64)\n",
    "        self.linear2=nn.Linear(64,10)\n",
    "    def forward(self, x):\n",
    "        x=self.conv1( x)\n",
    "        x=self.maxpool(x)\n",
    "        x=self.conv2(x)\n",
    "        x=self.maxpool2(x)\n",
    "        x=self.conv3(x)\n",
    "        x=self.maxpool3(x)\n",
    "        x=self.flatten(x)\n",
    "        x=self.linear1(x)\n",
    "        x=self.linear2(x)\n",
    "        return x\n",
    "\n",
    "\n"
   ],
   "id": "c56f6ec2166ac461",
   "outputs": [],
   "execution_count": 24
  },
  {
   "metadata": {
    "ExecuteTime": {
     "end_time": "2025-09-22T13:26:06.891246Z",
     "start_time": "2025-09-22T13:26:06.876076Z"
    }
   },
   "cell_type": "code",
   "source": [
    "class Kaiyue(nn.Module):\n",
    "    def __init__(self):\n",
    "        super().__init__()\n",
    "        self.model=nn.Sequential(\n",
    "            Conv2d(in_channels=3,out_channels=32,kernel_size=5,padding=2),\n",
    "            nn.MaxPool2d(kernel_size=2),\n",
    "            Conv2d(in_channels=32,out_channels=32,kernel_size=5,padding=2),\n",
    "            nn.MaxPool2d(kernel_size=2),\n",
    "            Conv2d(in_channels=32,out_channels=64,kernel_size=5,padding=2),\n",
    "            nn.MaxPool2d(kernel_size=2),\n",
    "            nn.Flatten(),\n",
    "            nn.Linear(1024,64),\n",
    "            nn.Linear(64,10)\n",
    "        )\n",
    "\n",
    "    def forward(self, x):\n",
    "        x=self.model(x)\n",
    "        return x\n",
    "\n",
    "\n"
   ],
   "id": "11092ad133c9739f",
   "outputs": [],
   "execution_count": 35
  },
  {
   "metadata": {
    "ExecuteTime": {
     "end_time": "2025-09-22T13:26:09.896388Z",
     "start_time": "2025-09-22T13:26:09.871599Z"
    }
   },
   "cell_type": "code",
   "source": [
    "model=Kaiyue()\n",
    "input=torch.ones(64,3,32,32)\n",
    "output=model(input)\n",
    "print(output.shape)"
   ],
   "id": "4a01fd8b776637f7",
   "outputs": [
    {
     "name": "stdout",
     "output_type": "stream",
     "text": [
      "torch.Size([64, 10])\n"
     ]
    }
   ],
   "execution_count": 36
  },
  {
   "metadata": {
    "ExecuteTime": {
     "end_time": "2025-09-22T13:21:47.622952Z",
     "start_time": "2025-09-22T13:21:47.386808Z"
    }
   },
   "cell_type": "code",
   "source": [
    "writer=SummaryWriter(log_dir='./tensorboard/model')\n",
    "writer.add_graph(model,input)\n",
    "writer.close()"
   ],
   "id": "512254070e40c9b9",
   "outputs": [],
   "execution_count": 34
  }
 ],
 "metadata": {
  "kernelspec": {
   "display_name": "Python 3",
   "language": "python",
   "name": "python3"
  },
  "language_info": {
   "codemirror_mode": {
    "name": "ipython",
    "version": 2
   },
   "file_extension": ".py",
   "mimetype": "text/x-python",
   "name": "python",
   "nbconvert_exporter": "python",
   "pygments_lexer": "ipython2",
   "version": "2.7.6"
  }
 },
 "nbformat": 4,
 "nbformat_minor": 5
}
