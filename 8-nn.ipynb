{
 "cells": [
  {
   "cell_type": "code",
   "id": "initial_id",
   "metadata": {
    "collapsed": true,
    "ExecuteTime": {
     "end_time": "2025-09-22T07:58:56.750663Z",
     "start_time": "2025-09-22T07:58:56.738625Z"
    }
   },
   "source": [
    "import torch\n",
    "import torch.nn as nn\n",
    "import torch.nn.functional as F"
   ],
   "outputs": [],
   "execution_count": 10
  },
  {
   "metadata": {
    "ExecuteTime": {
     "end_time": "2025-09-22T07:58:58.468149Z",
     "start_time": "2025-09-22T07:58:58.457147Z"
    }
   },
   "cell_type": "code",
   "source": [
    "class KaiYue(nn.Module):\n",
    "    def __init__(self):\n",
    "        super(KaiYue,self).__init__()\n",
    "    def forward(self,x):\n",
    "        y=x+1\n",
    "        return y"
   ],
   "id": "3eefe93daf5e4e22",
   "outputs": [],
   "execution_count": 11
  },
  {
   "metadata": {
    "ExecuteTime": {
     "end_time": "2025-09-22T07:59:06.867870Z",
     "start_time": "2025-09-22T07:59:06.861832Z"
    }
   },
   "cell_type": "code",
   "source": [
    "kaiyue=KaiYue()\n",
    "x=torch.tensor(1.0)\n",
    "y=kaiyue(x)\n",
    "print(y)"
   ],
   "id": "5626c94434847e53",
   "outputs": [
    {
     "name": "stdout",
     "output_type": "stream",
     "text": [
      "tensor(2.)\n"
     ]
    }
   ],
   "execution_count": 13
  },
  {
   "metadata": {},
   "cell_type": "markdown",
   "source": "#   卷积的运算",
   "id": "d16fcacd8e7a0260"
  },
  {
   "metadata": {
    "ExecuteTime": {
     "end_time": "2025-09-22T08:14:56.485152Z",
     "start_time": "2025-09-22T08:14:56.471779Z"
    }
   },
   "cell_type": "code",
   "source": [
    "#生成一个5*5的整数数据\n",
    "input=torch.randint(1,10,(5,5))\n",
    "kernel=torch.randint(1,10,(3,3))\n",
    "\n",
    "input=torch.reshape(input,(1,1,5,5))\n",
    "kernel=torch.reshape(kernel,(1,1,3,3))\n",
    "output1=F.conv2d(input,kernel,stride=1,padding=0)\n",
    "print(output1)\n",
    "\n",
    "output2=F.conv2d(input,kernel,stride=2,padding=0)\n",
    "print(output2)\n",
    "\n",
    "output3=F.conv2d(input,kernel,stride=1,padding=1)\n",
    "print(output3)\n"
   ],
   "id": "17910d8c151918d7",
   "outputs": [
    {
     "name": "stdout",
     "output_type": "stream",
     "text": [
      "tensor([[[[187, 132, 215],\n",
      "          [175, 151, 182],\n",
      "          [165, 174, 150]]]])\n",
      "tensor([[[[187, 215],\n",
      "          [165, 150]]]])\n",
      "tensor([[[[ 63, 164, 128, 175,  91],\n",
      "          [ 86, 187, 132, 215, 101],\n",
      "          [ 95, 175, 151, 182,  69],\n",
      "          [117, 165, 174, 150,  84],\n",
      "          [ 73,  95, 103,  70,  44]]]])\n"
     ]
    }
   ],
   "execution_count": 17
  },
  {
   "metadata": {},
   "cell_type": "code",
   "outputs": [],
   "execution_count": null,
   "source": "",
   "id": "f85fbe6944867329"
  }
 ],
 "metadata": {
  "kernelspec": {
   "display_name": "Python 3",
   "language": "python",
   "name": "python3"
  },
  "language_info": {
   "codemirror_mode": {
    "name": "ipython",
    "version": 2
   },
   "file_extension": ".py",
   "mimetype": "text/x-python",
   "name": "python",
   "nbconvert_exporter": "python",
   "pygments_lexer": "ipython2",
   "version": "2.7.6"
  }
 },
 "nbformat": 4,
 "nbformat_minor": 5
}
